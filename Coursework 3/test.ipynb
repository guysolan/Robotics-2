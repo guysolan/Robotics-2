{
 "cells": [
  {
   "cell_type": "code",
   "execution_count": 1,
   "metadata": {},
   "outputs": [],
   "source": [
    "import numpy as np"
   ]
  },
  {
   "cell_type": "code",
   "execution_count": 11,
   "metadata": {},
   "outputs": [
    {
     "name": "stdout",
     "output_type": "stream",
     "text": [
      "24\n",
      "[[3 5 4 3 0 3]\n",
      " [5 4 9 6 1 5]\n",
      " [8 7 8 9 9 6]\n",
      " [5 6 7 2 0 6]]\n"
     ]
    },
    {
     "ename": "ValueError",
     "evalue": "could not broadcast input array from shape (4,6) into shape (6,4)",
     "output_type": "error",
     "traceback": [
      "\u001b[1;31m---------------------------------------------------------------------------\u001b[0m",
      "\u001b[1;31mValueError\u001b[0m                                Traceback (most recent call last)",
      "\u001b[1;32mc:\\Users\\guyso\\OneDrive - Imperial College London\\Imperial\\Current Modules\\Year 3\\Robotics 2\\Coursework 3\\test.ipynb Cell 2'\u001b[0m in \u001b[0;36m<module>\u001b[1;34m\u001b[0m\n\u001b[0;32m     <a href='vscode-notebook-cell:/c%3A/Users/guyso/OneDrive%20-%20Imperial%20College%20London/Imperial/Current%20Modules/Year%203/Robotics%202/Coursework%203/test.ipynb#ch0000003?line=11'>12</a>\u001b[0m num_rows, num_cols \u001b[39m=\u001b[39m J_link\u001b[39m.\u001b[39mshape\n\u001b[0;32m     <a href='vscode-notebook-cell:/c%3A/Users/guyso/OneDrive%20-%20Imperial%20College%20London/Imperial/Current%20Modules/Year%203/Robotics%202/Coursework%203/test.ipynb#ch0000003?line=13'>14</a>\u001b[0m \u001b[39m# print(n)\u001b[39;00m\n\u001b[1;32m---> <a href='vscode-notebook-cell:/c%3A/Users/guyso/OneDrive%20-%20Imperial%20College%20London/Imperial/Current%20Modules/Year%203/Robotics%202/Coursework%203/test.ipynb#ch0000003?line=15'>16</a>\u001b[0m J[\u001b[39m0\u001b[39m:\u001b[39m6\u001b[39m, \u001b[39m0\u001b[39m:\u001b[39m4\u001b[39m] \u001b[39m=\u001b[39m J_link\n\u001b[0;32m     <a href='vscode-notebook-cell:/c%3A/Users/guyso/OneDrive%20-%20Imperial%20College%20London/Imperial/Current%20Modules/Year%203/Robotics%202/Coursework%203/test.ipynb#ch0000003?line=17'>18</a>\u001b[0m \u001b[39m# J[0:3,:] # take only linear part of the jacobian\u001b[39;00m\n\u001b[0;32m     <a href='vscode-notebook-cell:/c%3A/Users/guyso/OneDrive%20-%20Imperial%20College%20London/Imperial/Current%20Modules/Year%203/Robotics%202/Coursework%203/test.ipynb#ch0000003?line=19'>20</a>\u001b[0m \u001b[39mprint\u001b[39m(np\u001b[39m.\u001b[39msize(J))\n",
      "\u001b[1;31mValueError\u001b[0m: could not broadcast input array from shape (4,6) into shape (6,4)"
     ]
    }
   ],
   "source": [
    "J_link = np.random.randint(10, size=(4, 6))\n",
    "\n",
    "\n",
    "\n",
    "print(np.size(J_link))\n",
    "print(J_link)\n",
    "        \n",
    "        \n",
    "#         # after computing the jacobian for the elbow, we need to convert it to a full size jacobian \n",
    "# J = np.zeros((6, 7)) # Total Jacobain matrix. Fill in with J_link of elbow\n",
    "        \n",
    "# num_rows, num_cols = J_link.shape\n",
    "\n",
    "# # print(n)\n",
    "        \n",
    "# J[0:6, 0:4] = J_link\n",
    "\n",
    "# J[0:3,:] # take only linear part of the jacobian\n",
    "\n",
    "J = np.pad(J_link, [(0, 1), (0, 1)], mode='constant')\n",
    "\n",
    "print(np.size(J))\n",
    "print(J)"
   ]
  }
 ],
 "metadata": {
  "interpreter": {
   "hash": "efdca69d0ca37f3cd75811ff5af31778643cf0a6677105436e305cec4d2bd40a"
  },
  "kernelspec": {
   "display_name": "Python 3.8.3 64-bit",
   "language": "python",
   "name": "python3"
  },
  "language_info": {
   "codemirror_mode": {
    "name": "ipython",
    "version": 3
   },
   "file_extension": ".py",
   "mimetype": "text/x-python",
   "name": "python",
   "nbconvert_exporter": "python",
   "pygments_lexer": "ipython3",
   "version": "3.8.3"
  },
  "orig_nbformat": 4
 },
 "nbformat": 4,
 "nbformat_minor": 2
}
