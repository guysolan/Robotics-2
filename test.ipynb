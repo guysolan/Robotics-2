{
 "cells": [
  {
   "cell_type": "code",
   "execution_count": 24,
   "metadata": {},
   "outputs": [
    {
     "name": "stdout",
     "output_type": "stream",
     "text": [
      "[ 0. -6.]\n"
     ]
    }
   ],
   "source": [
    "import numpy as np\n",
    "current_node_name = '[ 0. -6.]'\n",
    "next_current_node = '[-2.03125 -5.78125]'\n",
    "another_current_node = '[-2.78125  0.09375]'\n",
    "\n",
    "def toNParray(node_name):\n",
    "\n",
    "    res = node_name.strip('][').split(' ')\n",
    "\n",
    "    res = list(filter(lambda x: x != \"\", res))\n",
    "\n",
    "    current_node_x = float(res[0].strip('.'))\n",
    "    current_node_y = float(res[1].strip('.'))\n",
    "\n",
    "    current_node_array = np.array([current_node_x, current_node_y])\n",
    "\n",
    "    print(current_node_array)\n",
    "\n",
    "toNParray(current_node_name)"
   ]
  }
 ],
 "metadata": {
  "interpreter": {
   "hash": "efdca69d0ca37f3cd75811ff5af31778643cf0a6677105436e305cec4d2bd40a"
  },
  "kernelspec": {
   "display_name": "Python 3.8.3 64-bit",
   "language": "python",
   "name": "python3"
  },
  "language_info": {
   "name": "python",
   "version": "3.8.3"
  },
  "orig_nbformat": 4
 },
 "nbformat": 4,
 "nbformat_minor": 2
}
